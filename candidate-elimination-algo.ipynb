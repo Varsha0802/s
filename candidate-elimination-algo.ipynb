{
 "cells": [
  {
   "cell_type": "code",
   "execution_count": 47,
   "id": "3df78aad",
   "metadata": {},
   "outputs": [
    {
     "name": "stdout",
     "output_type": "stream",
     "text": [
      "['sunny', 'warm', '?', 'strong', '?', '?']\n",
      "[['sunny', '?', '?', '?', '?', '?'], ['?', 'warm', '?', '?', '?', '?']]\n"
     ]
    }
   ],
   "source": [
    "import csv\n",
    "with open(\"example.csv\") as f:\n",
    "    csv_file = csv.reader(f)\n",
    "    data = list(csv_file)\n",
    "    \n",
    "    specific = data[0][:-1]\n",
    "    general = [[\"?\" for i in range(len(specific))] for j in range(len(specific))]\n",
    "    \n",
    "    for i in data: \n",
    "        if i[-1]==\"yes\":\n",
    "            for j in range(len(specific)):\n",
    "                if specific[j]!=i[j]:\n",
    "                    specific[j]=\"?\"\n",
    "                    general[j][j]=\"?\"\n",
    "        elif i[-1] == \"no\":\n",
    "            for j in range(len(specific)):\n",
    "                if specific[j]!=i[j]:\n",
    "                    general[j][j]= specific[j]\n",
    "                else:\n",
    "                    general[j][j]= \"?\"\n",
    "        \n",
    "    gh = []\n",
    "    for i in general:\n",
    "        for j in i:\n",
    "            if j!= \"?\":\n",
    "                gh.append(i)\n",
    "                break\n",
    "print(specific)\n",
    "print(gh)\n",
    "    \n",
    "\n"
   ]
  },
  {
   "cell_type": "code",
   "execution_count": null,
   "id": "3574d269",
   "metadata": {},
   "outputs": [],
   "source": []
  }
 ],
 "metadata": {
  "kernelspec": {
   "display_name": "Python 3 (ipykernel)",
   "language": "python",
   "name": "python3"
  },
  "language_info": {
   "codemirror_mode": {
    "name": "ipython",
    "version": 3
   },
   "file_extension": ".py",
   "mimetype": "text/x-python",
   "name": "python",
   "nbconvert_exporter": "python",
   "pygments_lexer": "ipython3",
   "version": "3.11.5"
  }
 },
 "nbformat": 4,
 "nbformat_minor": 5
}
